{
  "cells": [
    {
      "cell_type": "markdown",
      "metadata": {
        "id": "view-in-github",
        "colab_type": "text"
      },
      "source": [
        "<a href=\"https://colab.research.google.com/github/DSLZL/index-tts-in-colab/blob/main/index-tts_in_colab.ipynb\" target=\"_parent\"><img src=\"https://colab.research.google.com/assets/colab-badge.svg\" alt=\"Open In Colab\"/></a>"
      ]
    },
    {
      "cell_type": "markdown",
      "source": [
        "# 克隆源仓库(Clone the source repository)"
      ],
      "metadata": {
        "id": "E7ElfkFXtOzW"
      }
    },
    {
      "cell_type": "code",
      "source": [
        "!git clone https://github.com/index-tts/index-tts.git"
      ],
      "metadata": {
        "id": "_Ixmz4MOy24u"
      },
      "execution_count": null,
      "outputs": []
    },
    {
      "cell_type": "markdown",
      "source": [
        "# 安装前置(当提示需要重启时点击重启)[Install the front(When prompted to restart, click Restart)]"
      ],
      "metadata": {
        "id": "EHtCdHu5tS5f"
      }
    },
    {
      "cell_type": "code",
      "source": [
        "%cd index-tts\n",
        "!pip install -r requirements.txt\n",
        "!apt-get install ffmpeg\n",
        "!huggingface-cli download IndexTeam/Index-TTS \\\n",
        "  bigvgan_discriminator.pth bigvgan_generator.pth bpe.model dvae.pth gpt.pth unigram_12000.vocab \\\n",
        "  --local-dir checkpoints\n",
        "!pip install -e \".[webui]\""
      ],
      "metadata": {
        "id": "VwrhVzLXy3_j"
      },
      "execution_count": null,
      "outputs": []
    },
    {
      "cell_type": "markdown",
      "source": [
        "# 下载模型(Download the model)"
      ],
      "metadata": {
        "id": "BQNuOdM-zNf_"
      }
    },
    {
      "cell_type": "code",
      "source": [
        "!huggingface-cli download IndexTeam/Index-TTS \\\n",
        "  bigvgan_discriminator.pth bigvgan_generator.pth bpe.model dvae.pth gpt.pth unigram_12000.vocab \\\n",
        "  --local-dir checkpoints\n",
        "!pip install -e \".[webui]\""
      ],
      "metadata": {
        "id": "OhUwn2Zgy3Dg"
      },
      "execution_count": null,
      "outputs": []
    },
    {
      "cell_type": "markdown",
      "source": [
        "# 启动index-tts(Start index-tts)"
      ],
      "metadata": {
        "id": "5sRaX3AkzarI"
      }
    },
    {
      "cell_type": "markdown",
      "source": [
        "将content/index-tts内的webui.py文件内的(Change the code in the webui.py file in content/index-tts to the bottom of the file)\n",
        "\n",
        "```\n",
        "demo.launch(server_name=\"127.0.0.1\")\n",
        "```\n",
        "改为(to)\n",
        "\n",
        "```\n",
        "demo.launch(share=True,server_name=\"127.0.0.1\")\n",
        "```"
      ],
      "metadata": {
        "id": "N1jMys8Nxx7u"
      }
    },
    {
      "cell_type": "code",
      "source": [
        "%cd index-tts\n",
        "!python webui.py"
      ],
      "metadata": {
        "id": "IyE5GFWGy_-B"
      },
      "execution_count": null,
      "outputs": []
    }
  ],
  "metadata": {
    "kernelspec": {
      "display_name": "Python 3",
      "name": "python3"
    },
    "language_info": {
      "codemirror_mode": {
        "name": "ipython",
        "version": 3
      },
      "file_extension": ".py",
      "mimetype": "text/x-python",
      "name": "python",
      "nbconvert_exporter": "python",
      "pygments_lexer": "ipython3",
      "version": "3.9.18"
    },
    "colab": {
      "provenance": [],
      "gpuType": "T4",
      "include_colab_link": true
    },
    "accelerator": "GPU"
  },
  "nbformat": 4,
  "nbformat_minor": 0
}