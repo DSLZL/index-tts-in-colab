{
  "cells": [
    {
      "cell_type": "markdown",
      "metadata": {
        "colab_type": "text",
        "id": "view-in-github"
      },
      "source": [
        "<a href=\"https://colab.research.google.com/github/DSLZL/index-tts-in-colab/blob/main/index-tts_in_colab.ipynb\" target=\"_parent\"><img src=\"https://colab.research.google.com/assets/colab-badge.svg\" alt=\"Open In Colab\"/></a>"
      ]
    },
    {
      "cell_type": "markdown",
      "metadata": {
        "id": "E7ElfkFXtOzW"
      },
      "source": [
        "# 一键启动"
      ]
    },
    {
      "cell_type": "code",
      "execution_count": null,
      "metadata": {
        "id": "_Ixmz4MOy24u"
      },
      "outputs": [],
      "source": [
        "!git lfs install\n",
        "!git clone https://github.com/index-tts/index-tts.git && cd index-tts\n",
        "!git lfs pull  # download large repository files\n",
        "!pip install uv\n",
        "!uv sync --all-extras\n",
        "!uv tool install \"huggingface_hub[cli]\"\n",
        "!hf download IndexTeam/IndexTTS-2 --local-dir=checkpoints\n",
        "!uv run webui.py"
      ]
    },
    {
      "cell_type": "markdown",
      "metadata": {
        "id": "EHtCdHu5tS5f"
      },
      "source": [
        "# 安装前置(当提示需要重启时点击重启)[Install the front(When prompted to restart, click Restart)]"
      ]
    },
    {
      "cell_type": "code",
      "execution_count": null,
      "metadata": {
        "id": "VwrhVzLXy3_j"
      },
      "outputs": [],
      "source": [
        "%cd index-tts\n",
        "!pip install -r requirements.txt\n",
        "!apt-get install ffmpeg\n",
        "!huggingface-cli download IndexTeam/Index-TTS \\\n",
        "  bigvgan_discriminator.pth bigvgan_generator.pth bpe.model dvae.pth gpt.pth unigram_12000.vocab \\\n",
        "  --local-dir checkpoints\n",
        "!pip install -e \".[webui]\""
      ]
    },
    {
      "cell_type": "markdown",
      "metadata": {
        "id": "BQNuOdM-zNf_"
      },
      "source": [
        "# 下载模型(Download the model)"
      ]
    },
    {
      "cell_type": "code",
      "execution_count": null,
      "metadata": {
        "id": "OhUwn2Zgy3Dg"
      },
      "outputs": [],
      "source": [
        "!huggingface-cli download IndexTeam/Index-TTS \\\n",
        "  bigvgan_discriminator.pth bigvgan_generator.pth bpe.model dvae.pth gpt.pth unigram_12000.vocab \\\n",
        "  --local-dir checkpoints\n",
        "!pip install -e \".[webui]\""
      ]
    },
    {
      "cell_type": "markdown",
      "metadata": {
        "id": "5sRaX3AkzarI"
      },
      "source": [
        "# 启动index-tts(Start index-tts)"
      ]
    },
    {
      "cell_type": "markdown",
      "metadata": {
        "id": "N1jMys8Nxx7u"
      },
      "source": [
        "将content/index-tts内的webui.py文件内的(Change the code in the webui.py file in content/index-tts to the bottom of the file)\n",
        "\n",
        "```\n",
        "demo.launch(server_name=\"127.0.0.1\")\n",
        "```\n",
        "改为(to)\n",
        "\n",
        "```\n",
        "demo.launch(share=True,server_name=\"127.0.0.1\")\n",
        "```"
      ]
    },
    {
      "cell_type": "code",
      "execution_count": null,
      "metadata": {
        "id": "IyE5GFWGy_-B"
      },
      "outputs": [],
      "source": [
        "%cd index-tts\n",
        "!python webui.py"
      ]
    }
  ],
  "metadata": {
    "accelerator": "GPU",
    "colab": {
      "gpuType": "T4",
      "include_colab_link": true,
      "provenance": []
    },
    "kernelspec": {
      "display_name": "Python 3",
      "name": "python3"
    },
    "language_info": {
      "codemirror_mode": {
        "name": "ipython",
        "version": 3
      },
      "file_extension": ".py",
      "mimetype": "text/x-python",
      "name": "python",
      "nbconvert_exporter": "python",
      "pygments_lexer": "ipython3",
      "version": "3.9.18"
    }
  },
  "nbformat": 4,
  "nbformat_minor": 0
}
